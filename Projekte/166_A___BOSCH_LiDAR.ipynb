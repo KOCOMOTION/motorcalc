{
 "nbformat": 4,
 "nbformat_minor": 2,
 "metadata": {
  "language_info": {
   "name": "python",
   "codemirror_mode": {
    "name": "ipython",
    "version": 3
   }
  },
  "orig_nbformat": 2,
  "file_extension": ".py",
  "mimetype": "text/x-python",
  "name": "python",
  "npconvert_exporter": "python",
  "pygments_lexer": "ipython3",
  "version": 3
 },
 "cells": [
  {
   "cell_type": "markdown",
   "execution_count": null,
   "metadata": {},
   "outputs": [],
   "source": [
    "# 166_A / BOSCH LiDAR\n",
    "## Status 04-Oct-2019"
   ]
  },
  {
   "cell_type": "markdown",
   "execution_count": null,
   "metadata": {},
   "outputs": [],
   "source": [
    "## Adaptation BO2015 to temperature and torque requirements"
   ]
  },
  {
   "cell_type": "code",
   "execution_count": 6,
   "metadata": {},
   "outputs": [],
   "source": [
    "from MotorCalc import CDCMotor\n",
    "import numpy as np\n",
    "c = 2               # adaptation factor for torque / speed curve\n",
    "T = -40             # temperature (°C)\n",
    "U_N = 6             # supply voltage\n",
    "m_T = (2.0-1.44)/(125+25)       # temperature coefficient coil resitance (Ohm/K)\n",
    "T_0 = 1.44 - m_T*(-25)          # offset temperature for temperature dependent resistance calculation\n",
    "R = (m_T*T+T_0)*c               # temperature dependent resistance (Ohm\n",
    "I_S = U_N / R                   # starting current (stall current) (A)\n",
    "k_M = 0.005985*np.sqrt(c)       # torque constant (Nm/A)\n",
    "M_S = 0.017099                  # starting torque (stall torque)\n",
    "I_0 = 0.13*6/U_N                # no-load current (A)\n",
    "n_WP = 300                      # speed at main working point (RPM)\n",
    "M_WP = 0.005                    # torque at maun working point (Nm)\n",
    "dcmotor=CDCMotor(U_N=U_N, I_0=I_0, k_M=k_M, R=R, n_WP=n_WP, M_WP=M_WP, application=\"166_A / LiDAR\", motor_name=\"BO2015_Version 10V\")\n",
    "dcmotor.print_parameter()\n",
    "dcmotor.tune_voltage_to_working_point()\n",
    "dcmotor.print_parameter()\n"
   ]
  },
  {
   "cell_type": "code",
   "execution_count": null,
   "metadata": {},
   "outputs": [],
   "source": []
  }
 ]
}