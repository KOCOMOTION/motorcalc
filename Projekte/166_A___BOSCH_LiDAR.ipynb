{
 "cells": [
  {
   "cell_type": "markdown",
   "metadata": {},
   "source": [
    "# 166_A / BOSCH LiDAR\n",
    "## Status 04-Oct-2019"
   ]
  },
  {
   "cell_type": "markdown",
   "metadata": {},
   "source": [
    "## Adaptation BO2015 to temperature and torque requirements\n",
    "### > 16mNm starting torque at -40°C and 6V\n",
    "\n"
   ]
  },
  {
   "cell_type": "code",
   "execution_count": 1,
   "metadata": {},
   "outputs": [
    {
     "name": "stdout",
     "output_type": "stream",
     "text": [
      "input parameter\n",
      "parameter\tvoltage\t\tterm. resist.\tno-load cur.\tno-load speed\ttorque const.\n",
      "unit\t\tVolt\t\tOhm\t\tAmpere\t\tRPM\t\tNm/A\n",
      "value\t\t6.0\t\t2.77\t\t0.130\t\t6363\t\t0.008\n",
      "\n",
      "motor performance data:\n",
      "parameter\tunit\tno-load\t\t@max eff.\t@max power\tstall\t@working point\n",
      "speed\t\tRPM\t6363\t\t5112\t\t3182\t\t0\t\t4519\n",
      "current\t\tA\t0.130\t\t0.531\t\t1.149\t\t2.168\t\t0.721\n",
      "torque\t\tNm\t0.001\t\t0.003\t\t0.009\t\t0.017\t\t0.005\n",
      "power\t\tW\t0.00\t\t1.82\t\t2.87\t\t0.00\t\t2.37\n",
      "eff.\t\t%\t0.0\t\t57.0\t\t41.7\t\t0.0\t\t54.7\n",
      "\n",
      "input parameter\n",
      "parameter\tvoltage\t\tterm. resist.\tno-load cur.\tno-load speed\ttorque const.\n",
      "unit\t\tVolt\t\tOhm\t\tAmpere\t\tRPM\t\tNm/A\n",
      "value\t\t2.3\t\t2.77\t\t0.130\t\t2145\t\t0.008\n",
      "\n",
      "motor performance data:\n",
      "parameter\tunit\tno-load\t\t@max eff.\t@max power\tstall\t@working point\n",
      "speed\t\tRPM\t2145\t\t1533\t\t1072\t\t0\t\t300\n",
      "current\t\tA\t0.130\t\t0.326\t\t0.473\t\t0.817\t\t0.721\n",
      "torque\t\tNm\t0.001\t\t0.002\t\t0.003\t\t0.006\t\t0.005\n",
      "power\t\tW\t0.00\t\t0.27\t\t0.33\t\t0.00\t\t0.16\n",
      "eff.\t\t%\t0.0\t\t36.1\t\t30.5\t\t0.0\t\t9.6\n",
      "\n",
      "Input power: 1.63W\n"
     ]
    }
   ],
   "source": [
    "from MotorCalc import CDCMotor\n",
    "import numpy as np\n",
    "c = 2               # adaptation factor for torque / speed curve\n",
    "T = -40             # temperature (°C)\n",
    "U_N = 6             # supply voltage\n",
    "m_T = (2.0-1.44)/(125+25)       # temperature coefficient coil resitance (Ohm/K)\n",
    "T_0 = 1.44 - m_T*(-25)          # offset temperature for temperature dependent resistance calculation\n",
    "R = (m_T*T+T_0)*c               # temperature dependent resistance (Ohm\n",
    "I_S = U_N / R                   # starting current (stall current) (A)\n",
    "k_M = 0.005985*np.sqrt(c)       # torque constant (Nm/A)\n",
    "M_S = 0.017099                  # starting torque (stall torque)\n",
    "I_0 = 0.13*6/U_N                # no-load current (A)\n",
    "n_WP = 300                      # speed at main working point (RPM)\n",
    "M_WP = 0.005                    # torque at maun working point (Nm)\n",
    "dcmotor=CDCMotor(U_N=U_N, I_0=I_0, k_M=k_M, R=R, n_WP=n_WP, M_WP=M_WP, application=\"166_A / LiDAR\", motor_name=\"BO2015_Version 10V\")\n",
    "dcmotor.print_parameter()\n",
    "dcmotor.tune_voltage_to_working_point()\n",
    "dcmotor.print_parameter()\n",
    "print(f'Input power: {dcmotor.calc_P_el_from_M(M_WP):0.3}W')\n"
   ]
  },
  {
   "cell_type": "markdown",
   "metadata": {},
   "source": [
    "### > 16mNm starting torque at -40°C and 10 V"
   ]
  },
  {
   "cell_type": "code",
   "execution_count": 2,
   "metadata": {},
   "outputs": [
    {
     "name": "stdout",
     "output_type": "stream",
     "text": [
      "input parameter\n",
      "parameter\tvoltage\t\tterm. resist.\tno-load cur.\tno-load speed\ttorque const.\n",
      "unit\t\tVolt\t\tOhm\t\tAmpere\t\tRPM\t\tNm/A\n",
      "value\t\t10.0\t\t8.30\t\t0.078\t\t6092\t\t0.015\n",
      "\n",
      "motor performance data:\n",
      "parameter\tunit\tno-load\t\t@max eff.\t@max power\tstall\t@working point\n",
      "speed\t\tRPM\t6092\t\t4856\t\t3046\t\t0\t\t4247\n",
      "current\t\tA\t0.078\t\t0.306\t\t0.641\t\t1.204\t\t0.419\n",
      "torque\t\tNm\t0.001\t\t0.003\t\t0.008\t\t0.017\t\t0.005\n",
      "power\t\tW\t0.00\t\t1.70\t\t2.63\t\t0.00\t\t2.22\n",
      "eff.\t\t%\t0.0\t\t55.6\t\t41.1\t\t0.0\t\t53.1\n",
      "\n",
      "input parameter\n",
      "parameter\tvoltage\t\tterm. resist.\tno-load cur.\tno-load speed\ttorque const.\n",
      "unit\t\tVolt\t\tOhm\t\tAmpere\t\tRPM\t\tNm/A\n",
      "value\t\t3.9\t\t8.30\t\t0.078\t\t2145\t\t0.015\n",
      "\n",
      "motor performance data:\n",
      "parameter\tunit\tno-load\t\t@max eff.\t@max power\tstall\t@working point\n",
      "speed\t\tRPM\t2145\t\t1526\t\t1072\t\t0\t\t300\n",
      "current\t\tA\t0.078\t\t0.192\t\t0.276\t\t0.475\t\t0.419\n",
      "torque\t\tNm\t0.001\t\t0.002\t\t0.003\t\t0.006\t\t0.005\n",
      "power\t\tW\t0.00\t\t0.27\t\t0.33\t\t0.00\t\t0.16\n",
      "eff.\t\t%\t0.0\t\t35.4\t\t30.0\t\t0.0\t\t9.5\n",
      "\n",
      "Input power: 1.65W\n"
     ]
    }
   ],
   "source": [
    "c = 6               # adaptation factor for torque / speed curve\n",
    "T = -40             # temperature (°C)\n",
    "U_N = 10            # supply voltage\n",
    "m_T = (2.0-1.44)/(125+25)       # temperature coefficient coil resitance (Ohm/K)\n",
    "T_0 = 1.44 - m_T*(-25)          # offset temperature for temperature dependent resistance calculation\n",
    "R = (m_T*T+T_0)*c               # temperature dependent resistance (Ohm)\n",
    "I_S = U_N / R                   # starting current (stall current) (A)\n",
    "k_M = 0.005985*np.sqrt(c)       # torque constant (Nm/A)\n",
    "M_S = 0.017099                  # starting torque (stall torque)\n",
    "I_0 = 0.13*6/U_N                # no-load current (A)\n",
    "n_WP = 300                      # speed at main working point (RPM)\n",
    "M_WP = 0.005                    # torque at maun working point (Nm)\n",
    "dcmotor=CDCMotor(U_N=U_N, I_0=I_0, k_M=k_M, R=R, n_WP=n_WP, M_WP=M_WP, application=\"166_A / LiDAR\", motor_name=\"BO2015_Version 10V\")\n",
    "dcmotor.print_parameter()\n",
    "dcmotor.tune_voltage_to_working_point()\n",
    "dcmotor.print_parameter()\n",
    "print(f'Input power: {dcmotor.calc_P_el_from_M(M_WP):0.3}W')\n",
    "\n"
   ]
  },
  {
   "cell_type": "markdown",
   "metadata": {},
   "source": [
    "### > 16mNm starting torque at -40°C and 16 V"
   ]
  },
  {
   "cell_type": "code",
   "execution_count": 3,
   "metadata": {},
   "outputs": [
    {
     "name": "stdout",
     "output_type": "stream",
     "text": [
      "input parameter\n",
      "parameter\tvoltage\t\tterm. resist.\tno-load cur.\tno-load speed\ttorque const.\n",
      "unit\t\tVolt\t\tOhm\t\tAmpere\t\tRPM\t\tNm/A\n",
      "value\t\t16.0\t\t19.38\t\t0.049\t\t6420\t\t0.022\n",
      "\n",
      "motor performance data:\n",
      "parameter\tunit\tno-load\t\t@max eff.\t@max power\tstall\t@working point\n",
      "speed\t\tRPM\t6420\t\t5165\t\t3210\t\t0\t\t4575\n",
      "current\t\tA\t0.049\t\t0.201\t\t0.437\t\t0.826\t\t0.272\n",
      "torque\t\tNm\t0.001\t\t0.003\t\t0.009\t\t0.017\t\t0.005\n",
      "power\t\tW\t0.00\t\t1.84\t\t2.92\t\t0.00\t\t2.40\n",
      "eff.\t\t%\t0.0\t\t57.3\t\t41.8\t\t0.0\t\t55.0\n",
      "\n",
      "input parameter\n",
      "parameter\tvoltage\t\tterm. resist.\tno-load cur.\tno-load speed\ttorque const.\n",
      "unit\t\tVolt\t\tOhm\t\tAmpere\t\tRPM\t\tNm/A\n",
      "value\t\t6.0\t\t19.38\t\t0.049\t\t2145\t\t0.022\n",
      "\n",
      "motor performance data:\n",
      "parameter\tunit\tno-load\t\t@max eff.\t@max power\tstall\t@working point\n",
      "speed\t\tRPM\t2145\t\t1535\t\t1072\t\t0\t\t300\n",
      "current\t\tA\t0.049\t\t0.123\t\t0.179\t\t0.308\t\t0.272\n",
      "torque\t\tNm\t0.001\t\t0.002\t\t0.003\t\t0.006\t\t0.005\n",
      "power\t\tW\t0.00\t\t0.27\t\t0.33\t\t0.00\t\t0.16\n",
      "eff.\t\t%\t0.0\t\t36.3\t\t30.6\t\t0.0\t\t9.7\n",
      "\n",
      "Input power: 1.63W\n"
     ]
    }
   ],
   "source": [
    "c = 14               # adaptation factor for torque / speed curve\n",
    "T = -40             # temperature (°C)\n",
    "U_N = 16            # supply voltage\n",
    "m_T = (2.0-1.44)/(125+25)       # temperature coefficient coil resitance (Ohm/K)\n",
    "T_0 = 1.44 - m_T*(-25)          # offset temperature for temperature dependent resistance calculation\n",
    "R = (m_T*T+T_0)*c               # temperature dependent resistance (Ohm)\n",
    "I_S = U_N / R                   # starting current (stall current) (A)\n",
    "k_M = 0.005985*np.sqrt(c)       # torque constant (Nm/A)\n",
    "M_S = 0.017099                  # starting torque (stall torque)\n",
    "I_0 = 0.13*6/U_N                # no-load current (A)\n",
    "n_WP = 300                      # speed at main working point (RPM)\n",
    "M_WP = 0.005                    # torque at maun working point (Nm)\n",
    "dcmotor=CDCMotor(U_N=U_N, I_0=I_0, k_M=k_M, R=R, n_WP=n_WP, M_WP=M_WP, application=\"166_A / LiDAR\", motor_name=\"BO2015_Version 10V\")\n",
    "dcmotor.print_parameter()\n",
    "dcmotor.tune_voltage_to_working_point()\n",
    "dcmotor.print_parameter()\n",
    "print(f'Input power: {dcmotor.calc_P_el_from_M(M_WP):0.3}W')\n",
    "\n"
   ]
  },
  {
   "cell_type": "code",
   "execution_count": null,
   "metadata": {},
   "outputs": [],
   "source": []
  }
 ],
 "metadata": {
  "file_extension": ".py",
  "kernelspec": {
   "display_name": "Python 3",
   "language": "python",
   "name": "python3"
  },
  "language_info": {
   "codemirror_mode": {
    "name": "ipython",
    "version": 3
   },
   "file_extension": ".py",
   "mimetype": "text/x-python",
   "name": "python",
   "nbconvert_exporter": "python",
   "pygments_lexer": "ipython3",
   "version": "3.7.5"
  },
  "mimetype": "text/x-python",
  "name": "python",
  "npconvert_exporter": "python",
  "pygments_lexer": "ipython3",
  "version": 3
 },
 "nbformat": 4,
 "nbformat_minor": 2
}
