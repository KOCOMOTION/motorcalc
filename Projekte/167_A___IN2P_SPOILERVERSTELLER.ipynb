{
 "cells": [
  {
   "cell_type": "markdown",
   "metadata": {},
   "source": [
    "# 167_A / IN2P / Spoilerversteller / Auswahl DC Motor\n",
    "Status 03-Jul-2019\n",
    "Gerrit Kocherscheidt\n",
    "\n",
    "\n",
    "## Anforderungen"
   ]
  },
  {
   "cell_type": "code",
   "execution_count": 3,
   "metadata": {},
   "outputs": [
    {
     "name": "stdout",
     "output_type": "stream",
     "text": [
      "M_WP = 0.150Nm\n",
      "P_mech_des = 15.7W\n"
     ]
    }
   ],
   "source": [
    "import numpy as np\n",
    "from MotorCalc import *\n",
    "\n",
    "U_N=13.5\n",
    "n_WP=1000\n",
    "M_WP=0.150\n",
    "P_mech_des=n_WP*M_WP*np.pi/30\n",
    "print('M_WP = {:0.3f}Nm'.format(M_WP))\n",
    "print('P_mech_des = {:0.1f}W'.format(P_mech_des))\n"
   ]
  },
  {
   "cell_type": "markdown",
   "metadata": {},
   "source": [
    "Anforderungen nicht erfüllbar, Leistungen in dieser Größenordnung können wir mit so kleinen Durchmessern nur mit sehr hohen Drehzahlen (15000RPM und größer) bedienen. "
   ]
  },
  {
   "cell_type": "code",
   "execution_count": 9,
   "metadata": {},
   "outputs": [
    {
     "name": "stdout",
     "output_type": "stream",
     "text": [
      "V = 61.1cm^3\n",
      "WVD = 0.257W/cm^3\n"
     ]
    }
   ],
   "source": [
    "#estimate needed volume specific power\n",
    "\n",
    "D=3.6   #cm\n",
    "h=6.0   #cm\n",
    "\n",
    "V=1/4*np.pi*D**2*h\n",
    "WVD=P_mech_des/V\n",
    "\n",
    "print('V = {:0.1f}cm^3'.format(V))\n",
    "print('WVD = {:0.3f}W/cm^3'.format(WVD))"
   ]
  },
  {
   "cell_type": "markdown",
   "metadata": {},
   "source": [
    "## Leistungsdichte Nichibo-DC Motoren"
   ]
  },
  {
   "cell_type": "code",
   "execution_count": null,
   "metadata": {},
   "outputs": [],
   "source": []
  }
 ],
 "metadata": {
  "kernelspec": {
   "display_name": "Python 3",
   "language": "python",
   "name": "python3"
  },
  "language_info": {
   "codemirror_mode": {
    "name": "ipython",
    "version": 3
   },
   "file_extension": ".py",
   "mimetype": "text/x-python",
   "name": "python",
   "nbconvert_exporter": "python",
   "pygments_lexer": "ipython3",
   "version": "3.6.5"
  }
 },
 "nbformat": 4,
 "nbformat_minor": 2
}
