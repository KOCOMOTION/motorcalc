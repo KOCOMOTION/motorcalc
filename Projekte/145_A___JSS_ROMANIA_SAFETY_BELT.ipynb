{
 "cells": [
  {
   "cell_type": "markdown",
   "metadata": {},
   "source": [
    "# Joyson Safety System Romania - Safety Belt Retractor"
   ]
  },
  {
   "cell_type": "markdown",
   "metadata": {},
   "source": [
    "Anfrage Sergiu Popp, Daniel Bernert, 30-Aug-2018\n",
    "Ausführliche Beschreibung der Anforderungen um Projektordner"
   ]
  },
  {
   "cell_type": "code",
   "execution_count": 1,
   "metadata": {},
   "outputs": [
    {
     "name": "stdout",
     "output_type": "stream",
     "text": [
      "terminal resistance R = 0.091 Ohm\n"
     ]
    }
   ],
   "source": [
    "## Requirements Customer\n",
    "\n",
    "# Dimensions (soft borders) [mm]\n",
    "diameter = 43\n",
    "length = 98 \n",
    "\n",
    "\n",
    "# Operating Voltage [V]\n",
    "U = 12.0\n",
    "# no load speed [rpm]\n",
    "n_0 = 21400\n",
    "# stall current [A]\n",
    "I_S = 132\n",
    "# moment of inertia rotor [kgm^2]\n",
    "T=1.17E-6\n",
    "# terminal resistance [Ohm]\n",
    "R = U/I_S\n",
    "# short time mechanical power demands [W], t<0.2s\n",
    "P_mech_s = 300\n",
    "\n",
    "\n",
    "print('terminal resistance R = {:0.2} Ohm'.format(R))\n"
   ]
  },
  {
   "cell_type": "code",
   "execution_count": null,
   "metadata": {},
   "outputs": [],
   "source": []
  }
 ],
 "metadata": {
  "kernelspec": {
   "display_name": "Python 3",
   "language": "python",
   "name": "python3"
  },
  "language_info": {
   "codemirror_mode": {
    "name": "ipython",
    "version": 3
   },
   "file_extension": ".py",
   "mimetype": "text/x-python",
   "name": "python",
   "nbconvert_exporter": "python",
   "pygments_lexer": "ipython3",
   "version": "3.6.5"
  }
 },
 "nbformat": 4,
 "nbformat_minor": 2
}
