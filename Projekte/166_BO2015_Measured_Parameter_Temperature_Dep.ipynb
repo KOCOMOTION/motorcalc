{
 "nbformat": 4,
 "nbformat_minor": 2,
 "metadata": {
  "language_info": {
   "name": "python",
   "codemirror_mode": {
    "name": "ipython",
    "version": 3
   }
  },
  "orig_nbformat": 2,
  "file_extension": ".py",
  "mimetype": "text/x-python",
  "name": "python",
  "npconvert_exporter": "python",
  "pygments_lexer": "ipython3",
  "version": 3
 },
 "cells": [
  {
   "cell_type": "code",
   "execution_count": null,
   "metadata": {},
   "outputs": [
    {
     "evalue": "Error: Jupyter server crashed. Unable to connect. \r\nError code from jupyter: 1",
     "output_type": "error"
    }
   ],
   "source": [
    "import sys\n",
    "sys.path.append('/Users/gerritkocherscheidt/Documents/KOCO automotive/Kompendium Motorberechnung/')\n",
    "from MotorCalc import CDCMotor\n",
    "import numpy\n",
    "\n",
    "## measured values @6V\n",
    "\n",
    "U_N = 6.0                       #V (applied voltage)\n",
    "R_LT = 3.05                     #Ohm (@T=-40°C)\n",
    "R_RT = 3.85                     #Ohm (@T=20°C)\n",
    "R_HT = 5.10                     #Ohm (@T=105°C)\n",
    "k_M_LT = 9.49E-3                #Nm\n",
    "k_M_RT = 7.78E-3                #Nm\n",
    "k_M_HT = 8.42E-3                #Nm\n",
    "I_0_LT = 0.04                   #A\n",
    "I_0_RT = 0.03                   #A\n",
    "I_0_HT = 0.03                   #A\n",
    "H_LT = 0.61                     #mH, Terminal inductance\n",
    "H_RT = 0.61                     #mH\n",
    "H_HT = 0.65                     #mH\n",
    "\n",
    "\n",
    "## working points\n",
    "\n",
    "n_WP = 300\n",
    "M_WP = 5E-3\n",
    "\n",
    "m=CDCMotor(U_N=U_N, I_0=I_0_LT, k_M=k_M_LT, R=R_LT, H_LT=0.61, J=6.7, n_WP=n_WP, M_WP=M_WP, \\\n",
    "               motor_name='BO2015NB2B03-113-12.0', application='166_A / BOSCH LiDAR - Low Temperature')\n",
    "m.calc_motor_values()\n",
    "m.print_parameter()"
   ]
  },
  {
   "cell_type": "code",
   "execution_count": null,
   "metadata": {},
   "outputs": [],
   "source": []
  }
 ]
}