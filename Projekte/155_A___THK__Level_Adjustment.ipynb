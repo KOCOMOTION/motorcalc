{
 "cells": [
  {
   "cell_type": "markdown",
   "metadata": {},
   "source": [
    "# 155_A / THK / Level Adjustment / Auswahl DC Motor\n",
    "Status 03-Sep-2019\n",
    "Gerrit Kocherscheidt\n",
    "\n",
    "* Berechnung Getriebe-Motor\n",
    "* Einarbeitung der Vorschläge von William vom 02-Mai-2019\n"
   ]
  },
  {
   "cell_type": "code",
   "execution_count": 1,
   "metadata": {},
   "outputs": [
    {
     "ename": "ImportError",
     "evalue": "attempted relative import with no known parent package",
     "output_type": "error",
     "traceback": [
      "\u001b[0;31m---------------------------------------------------------------------------\u001b[0m",
      "\u001b[0;31mImportError\u001b[0m                               Traceback (most recent call last)",
      "\u001b[0;32m<ipython-input-1-c98b8ca7f668>\u001b[0m in \u001b[0;36m<module>\u001b[0;34m\u001b[0m\n\u001b[1;32m      1\u001b[0m \u001b[0;32mimport\u001b[0m \u001b[0mnumpy\u001b[0m \u001b[0;32mas\u001b[0m \u001b[0mnp\u001b[0m\u001b[0;34m\u001b[0m\u001b[0;34m\u001b[0m\u001b[0m\n\u001b[0;32m----> 2\u001b[0;31m \u001b[0;32mfrom\u001b[0m \u001b[0;34m.\u001b[0m\u001b[0;34m.\u001b[0m \u001b[0;32mimport\u001b[0m \u001b[0mMotorCalc\u001b[0m\u001b[0;34m\u001b[0m\u001b[0;34m\u001b[0m\u001b[0m\n\u001b[0m",
      "\u001b[0;31mImportError\u001b[0m: attempted relative import with no known parent package"
     ]
    }
   ],
   "source": [
    "import numpy as np\n",
    "from MotorCalc import *"
   ]
  },
  {
   "cell_type": "markdown",
   "metadata": {},
   "source": [
    "## Getriebemotor 997 (19:1)"
   ]
  },
  {
   "cell_type": "code",
   "execution_count": 2,
   "metadata": {},
   "outputs": [],
   "source": [
    "U_N = 12\n",
    "I_S = 117.676\n",
    "I_0 = 2.3                #Wert von Motor Datenblatt\n",
    "n_WP_system = 400\n",
    "M_WP_system = 1.4\n",
    "M_S = 14.524 * 9.81 * 0.01\n",
    "GB_ratio = 19.0\n",
    "GB_eta = 0.7  #Wert geschätzt, um etwa die Daten von Nichibo für das System erhalten\n",
    "GB_name = '19:1'\n",
    "# k_M_GB = 1.873 * 9.81 * 0.01 #Nm/A\n",
    "# k_M = k_M_GB / GB_ratio / GB_eta\n",
    "k_M =  0.1229*9.81*0.01*1.0589\n",
    "R = U_N / I_S\n",
    "# I_0 = 1.9 / GB_eta     #Wert geschätzt, um etwa die Daten von Nichibo für das System zu erhalten\n",
    "\n",
    "# R = 0.1372\n",
    "motor_name_Nichibo = '97-9010W-R-NF-EN'\n",
    "motor_name_KOCO = '155_A_5285(19:1)-12.0-460'\n",
    "GBMotor = CDCMotorWithGearbox(U_N=12, k_M=k_M, I_0=I_0, R=R, GB_eta=GB_eta, GB_ratio=GB_ratio, GB_name=GB_name, motor_name=motor_name_KOCO)\n",
    "GBMotor.plotCurves(addVoltagesSpeed=(6,8,10))"
   ]
  },
  {
   "cell_type": "code",
   "execution_count": 3,
   "metadata": {},
   "outputs": [],
   "source": [
    "GBMotor.print_parameter()\n"
   ]
  },
  {
   "cell_type": "code",
   "execution_count": 4,
   "metadata": {},
   "outputs": [],
   "source": [
    "GBMotor.plotSystemCurves()"
   ]
  },
  {
   "cell_type": "markdown",
   "metadata": {},
   "source": [
    "## Anforderungen simpler Motor"
   ]
  },
  {
   "cell_type": "code",
   "execution_count": 5,
   "metadata": {},
   "outputs": [],
   "source": [
    "U_N=12\n",
    "n_WP=6000\n",
    "M_WP=0.100\n",
    "P_mech_des=n_WP*M_WP*np.pi/30\n",
    "print('M_WP = {:0.3f}Nm'.format(M_WP))"
   ]
  },
  {
   "cell_type": "markdown",
   "metadata": {},
   "source": [
    "## KBV5BFN-4529S-WRC-NF/87"
   ]
  },
  {
   "cell_type": "code",
   "execution_count": 6,
   "metadata": {},
   "outputs": [],
   "source": [
    "## Data Sheet Nichibo\n",
    "U_N_KN = 12\n",
    "I_S_KN = 23.469\n",
    "M_S_KN = 3155.014*9.81E-5\n",
    "I_0_KN = 0.65\n",
    "motor_name_supplier = 'KBV5BFN-4529S-WRC-NF/87'\n",
    "motor_name_KOCO = '3857-N3B-88-12.0-155A'\n"
   ]
  },
  {
   "cell_type": "code",
   "execution_count": 7,
   "metadata": {},
   "outputs": [],
   "source": [
    "#Terminal resistance\n",
    "R=U_N_KN / I_S_KN\n",
    "#Operating voltage\n",
    "U=16\n",
    "#No load current\n",
    "I_0 = I_0_KN / U_N_KN * U\n",
    "#Torque konstant\n",
    "k_M = M_S_KN / I_S_KN"
   ]
  },
  {
   "cell_type": "code",
   "execution_count": 8,
   "metadata": {},
   "outputs": [],
   "source": [
    "m=CDCMotor(U_N=U,R=R,I_0=I_0,k_M=k_M, M_WP = M_WP, n_WP = n_WP, motor_name=motor_name_KOCO)\n",
    "m.plotCurves()\n",
    "\n",
    "#Print values\n",
    "print('R = {:0.2f} Ohm'.format(R))\n",
    "print('U = {:0.2f} V'.format(U))\n",
    "print('I_0 = {:0.2f} A'.format(I_0))\n",
    "print('k_M = {:0.2f} mNm/A'.format(k_M*1000.0))\n",
    "print('n = {:0.1f} RPM'.format(m.calc_n_from_M(M_WP)))\n",
    "print('I = {:0.1f} A'.format(m.calc_I_from_M(M_WP)))\n",
    "print('W_mech = {:0.2f} W'.format(m.calc_P_mech_from_M(M_WP)))\n",
    "print('W_loss = {:0.2f} W'.format(m.calc_P_el_from_M(M_WP)-m.calc_P_mech_from_M(M_WP)))"
   ]
  },
  {
   "cell_type": "markdown",
   "metadata": {},
   "source": [
    "## KV5FN-5025B-RC-74"
   ]
  },
  {
   "cell_type": "code",
   "execution_count": 9,
   "metadata": {},
   "outputs": [],
   "source": [
    "## Data Sheet Nichibo\n",
    "U_N_KN = 12\n",
    "I_S_KN = 32.042\n",
    "M_S_KN = 3930*9.81E-5\n",
    "I_0_KN = 0.76\n",
    "motor_name_supplier = 'KV5FN-5025B-RC-74'\n",
    "motor_name_KOCO = '3857-N3B-89-12.0-155A'"
   ]
  },
  {
   "cell_type": "code",
   "execution_count": 10,
   "metadata": {},
   "outputs": [],
   "source": [
    "#Terminal resistance\n",
    "R=U_N_KN / I_S_KN\n",
    "#Operating voltage\n",
    "U=12\n",
    "#No load current\n",
    "I_0 = I_0_KN / U_N_KN * U\n",
    "#Torque konstant\n",
    "k_M = M_S_KN / I_S_KN"
   ]
  },
  {
   "cell_type": "code",
   "execution_count": 11,
   "metadata": {},
   "outputs": [],
   "source": [
    "m=CDCMotor(U_N=U,R=R,I_0=I_0,k_M=k_M, M_WP = M_WP, n_WP = n_WP, motor_name=motor_name_KOCO)\n",
    "m.plotCurves()\n",
    "\n",
    "#Print values\n",
    "print('R = {:0.2f} Ohm'.format(R))\n",
    "print('U = {:0.2f} V'.format(U))\n",
    "print('I_0 = {:0.2f} A'.format(I_0))\n",
    "print('k_M = {:0.2f} mNm/A'.format(k_M*1000.0))\n",
    "print('n = {:0.1f} RPM'.format(m.calc_n_from_M(M_WP)))\n",
    "print('I = {:0.1f} A'.format(m.calc_I_from_M(M_WP)))\n",
    "print('W_mech = {:0.2f} W'.format(m.calc_P_mech_from_M(M_WP)))\n",
    "print('W_loss = {:0.2f} W'.format(m.calc_P_el_from_M(M_WP)-m.calc_P_mech_from_M(M_WP)))"
   ]
  },
  {
   "cell_type": "markdown",
   "metadata": {},
   "source": [
    "### Tabelle mit Motor-Parametern\n",
    "\n",
    "| Name | Unit | Value | Comment\n",
    "|:---|:---:|:---:|:---\n",
    "|**Input parameter**\n",
    "|$U_{\\rm{N}}$| V | {{m.U_N}} | rated Voltage\n",
    "|$I_0$|A|{{m.I_0}}| no load current\n",
    "|$k_{\\rm{M}}$|mNm/A|{{\"{:0.2f}\".format(m.k_M*1000)}}| torque constant\n",
    "|$R$|$\\Omega$|{{\"{:0.2f}\".format(m.R)}}|terminal resistance\n",
    "|**Output parameter**\n",
    "|$I_{\\rm{S}}$|A|{{\"{:0.2f}\".format(m.I_S)}}| stall current\n",
    "|$I_{\\rm{meff}}$|A|{{\"{:0.2f}\".format(m.I_meff)}}|current @ $\\eta_{\\rm{max}}$\n",
    "|$n_0$|min$^{-1}$|{{\"{:0.0f}\".format(m.n_0)}}| no load speed\n",
    "|$n_{\\rm{meff}}$|min$^{-1}$|{{\"{:0.0f}\".format(m.n_meff)}}| speed @ $\\eta_{\\rm{max}}$\n",
    "|$M_{\\rm{S}}$|mNm|{{\"{:0.2f}\".format(m.M_S*1000)}}| stall torque\n",
    "|$M_{\\rm{0}}$|mNm|{{\"{:0.2f}\".format(m.M_0*1000)}}| loss torque\n",
    "|$M_{\\rm{meff}}$|mNm|{{\"{:0.2f}\".format(m.M_meff*1000)}}| torque @ $\\eta_{\\rm{max}}$\n",
    "|$M_{\\rm{max power}}$|mNm|{{\"{:0.2f}\".format(m.M_maxpower*1000)}}| torque @ $P_{\\rm{max}}$\n",
    "|$P_{\\rm{meff}}$|W|{{\"{:0.2f}\".format(m.P_meff)}}| power @ $\\eta_{\\rm{max}}$\n",
    "|$P_{\\rm{max}}$|W|{{\"{:0.2f}\".format(m.P_maxpower)}}| max. power\n",
    "|$\\eta_{\\rm{max}}$| % | {{\"{:0.2f}\".format(m.eta_max*100.0)}} | max. efficiency"
   ]
  },
  {
   "cell_type": "markdown",
   "metadata": {},
   "source": [
    "## NC3SFN-6035"
   ]
  },
  {
   "cell_type": "code",
   "execution_count": 12,
   "metadata": {},
   "outputs": [],
   "source": [
    "## Data Sheet Nichibo\n",
    "U_N_KN = 12\n",
    "I_S_KN = 51.36\n",
    "M_S_KN = 4557*9.81E-5\n",
    "I_0_KN = 1.0\n",
    "motor_name_supplier = 'NC3SFN-6035'\n",
    "motor_name_KOCO = '3865-N3B-100-12.0-155A'\n"
   ]
  },
  {
   "cell_type": "code",
   "execution_count": 13,
   "metadata": {},
   "outputs": [],
   "source": [
    "#Terminal resistance\n",
    "R=U_N_KN / I_S_KN\n",
    "#Operating voltage\n",
    "U=16\n",
    "#No load current\n",
    "I_0 = I_0_KN / U_N_KN * U\n",
    "#Torque konstant\n",
    "k_M = M_S_KN / I_S_KN"
   ]
  },
  {
   "cell_type": "code",
   "execution_count": 14,
   "metadata": {},
   "outputs": [],
   "source": [
    "m=CDCMotor(U_N=U,R=R,I_0=I_0,k_M=k_M, M_WP = M_WP, n_WP = n_WP, motor_name=motor_name_KOCO)\n",
    "m.plotCurves()\n",
    "\n",
    "#Print values\n",
    "print('R = {:0.2f} Ohm'.format(R))\n",
    "print('U = {:0.2f} V'.format(U))\n",
    "print('I_0 = {:0.2f} A'.format(I_0))\n",
    "print('k_M = {:0.2f} mNm/A'.format(k_M*1000.0))\n",
    "print('n = {:0.1f} RPM'.format(m.calc_n_from_M(M_WP)))\n",
    "print('I = {:0.1f} A'.format(m.calc_I_from_M(M_WP)))\n",
    "print('W_mech = {:0.2f} W'.format(m.calc_P_mech_from_M(M_WP)))\n",
    "print('W_loss = {:0.2f} W'.format(m.calc_P_el_from_M(M_WP)-m.calc_P_mech_from_M(M_WP)))"
   ]
  },
  {
   "cell_type": "markdown",
   "metadata": {},
   "source": [
    "## KV5FN-6015F"
   ]
  },
  {
   "cell_type": "code",
   "execution_count": 15,
   "metadata": {},
   "outputs": [],
   "source": [
    "## Data Sheet Nichibo\n",
    "U_N_KN = 14.4\n",
    "I_S_KN = 73.86\n",
    "M_S_KN = 5161*9.81E-5\n",
    "I_0_KN = 1.7\n",
    "motor_name_supplier = 'KV5FN-6015F'\n",
    "motor_name_KOCO = '3957-N5B-125-12.0-155A'"
   ]
  },
  {
   "cell_type": "code",
   "execution_count": 16,
   "metadata": {},
   "outputs": [],
   "source": [
    "#Terminal resistance\n",
    "R=U_N_KN / I_S_KN\n",
    "#Operating voltage\n",
    "U=16\n",
    "#No load current\n",
    "I_0 = I_0_KN / U_N_KN * U\n",
    "#Torque konstant\n",
    "k_M = M_S_KN / I_S_KN"
   ]
  },
  {
   "cell_type": "code",
   "execution_count": 17,
   "metadata": {},
   "outputs": [],
   "source": [
    "m=CDCMotor(U_N=U,R=R,I_0=I_0,k_M=k_M, M_WP = M_WP, n_WP = n_WP, motor_name=motor_name_KOCO)\n",
    "m.plotCurves()\n",
    "\n",
    "#Print values\n",
    "print('R = {:0.2f} Ohm'.format(R))\n",
    "print('U = {:0.2f} V'.format(U))\n",
    "print('I_0 = {:0.2f} A'.format(I_0))\n",
    "print('k_M = {:0.2f} mNm/A'.format(k_M*1000.0))\n",
    "print('n = {:0.1f} RPM'.format(m.calc_n_from_M(M_WP)))\n",
    "print('I = {:0.1f} A'.format(m.calc_I_from_M(M_WP)))\n",
    "print('W_mech = {:0.2f} W'.format(m.calc_P_mech_from_M(M_WP)))\n",
    "print('W_loss = {:0.2f} W'.format(m.calc_P_el_from_M(M_WP)-m.calc_P_mech_from_M(M_WP)))"
   ]
  },
  {
   "cell_type": "markdown",
   "metadata": {},
   "source": [
    "## KV5FN-5021F-CE-IE "
   ]
  },
  {
   "cell_type": "code",
   "execution_count": 18,
   "metadata": {},
   "outputs": [],
   "source": [
    "## Data Sheet Nichibo\n",
    "U_N_KN = 14.4\n",
    "I_S_KN = 43.23\n",
    "M_S_KN = 4458*9.81E-5\n",
    "I_0_KN = 0.83\n",
    "motor_name_supplier = 'KV5FN-5021F-CE-IE'\n",
    "motor_name_KOCO = '3957-N5B-81-12.0-155A'"
   ]
  },
  {
   "cell_type": "code",
   "execution_count": 19,
   "metadata": {},
   "outputs": [],
   "source": [
    "#Terminal resistance\n",
    "R=U_N_KN / I_S_KN\n",
    "#Operating voltage\n",
    "U=12\n",
    "#No load current\n",
    "I_0 = I_0_KN / U_N_KN * U\n",
    "#Torque konstant\n",
    "k_M = M_S_KN / I_S_KN"
   ]
  },
  {
   "cell_type": "code",
   "execution_count": 20,
   "metadata": {},
   "outputs": [],
   "source": [
    "m=CDCMotor(U_N=U,R=R,I_0=I_0,k_M=k_M, M_WP = M_WP, n_WP = n_WP, motor_name=motor_name_supplier)\n",
    "m.plotCurves()\n",
    "\n",
    "#Print values\n",
    "print('R = {:0.2f} Ohm'.format(R))\n",
    "print('U = {:0.2f} V'.format(U))\n",
    "print('I_0 = {:0.2f} A'.format(I_0))\n",
    "print('k_M = {:0.2f} mNm/A'.format(k_M*1000.0))\n",
    "print('n = {:0.1f} RPM'.format(m.calc_n_from_M(M_WP)))\n",
    "print('I = {:0.1f} A'.format(m.calc_I_from_M(M_WP)))\n",
    "print('W_mech = {:0.2f} W'.format(m.calc_P_mech_from_M(M_WP)))\n",
    "print('W_loss = {:0.2f} W'.format(m.calc_P_el_from_M(M_WP)-m.calc_P_mech_from_M(M_WP)))"
   ]
  },
  {
   "cell_type": "markdown",
   "metadata": {},
   "source": [
    "## 997-7018-R"
   ]
  },
  {
   "cell_type": "code",
   "execution_count": 21,
   "metadata": {},
   "outputs": [],
   "source": [
    "## Data Sheet Nichibo\n",
    "U_N_KN = 12.0\n",
    "I_S_KN = 48.12\n",
    "M_S_KN = 11499*9.81E-5\n",
    "I_0_KN = 1.4\n",
    "motor_name_supplier = '997-7018-R'\n",
    "motor_name_KOCO = '5585-NXB-43-12.0-155A'"
   ]
  },
  {
   "cell_type": "code",
   "execution_count": 22,
   "metadata": {},
   "outputs": [],
   "source": [
    "#Terminal resistance\n",
    "R=U_N_KN / I_S_KN\n",
    "#Operating voltage\n",
    "U=16\n",
    "#No load current\n",
    "I_0 = I_0_KN / U_N_KN * U\n",
    "#Torque konstant\n",
    "k_M = M_S_KN / I_S_KN"
   ]
  },
  {
   "cell_type": "code",
   "execution_count": 23,
   "metadata": {},
   "outputs": [],
   "source": [
    "m=CDCMotor(U_N=U,R=R,I_0=I_0,k_M=k_M, M_WP = M_WP, n_WP = n_WP, motor_name=motor_name_KOCO)\n",
    "m.plotCurves()\n",
    "\n",
    "#Print values\n",
    "print('R = {:0.2f} Ohm'.format(R))\n",
    "print('U = {:0.2f} V'.format(U))\n",
    "print('I_0 = {:0.2f} A'.format(I_0))\n",
    "print('k_M = {:0.2f} mNm/A'.format(k_M*1000.0))\n",
    "print('n = {:0.1f} RPM'.format(m.calc_n_from_M(M_WP)))\n",
    "print('I = {:0.1f} A'.format(m.calc_I_from_M(M_WP)))\n",
    "print('W_mech = {:0.2f} W'.format(m.calc_P_mech_from_M(M_WP)))\n",
    "print('W_loss = {:0.2f} W'.format(m.calc_P_el_from_M(M_WP)-m.calc_P_mech_from_M(M_WP)))"
   ]
  },
  {
   "cell_type": "code",
   "execution_count": null,
   "metadata": {},
   "outputs": [],
   "source": []
  }
 ],
 "metadata": {
  "kernelspec": {
   "display_name": "Python 3",
   "language": "python",
   "name": "python3"
  },
  "language_info": {
   "codemirror_mode": {
    "name": "ipython",
    "version": 3
   },
   "file_extension": ".py",
   "mimetype": "text/x-python",
   "name": "python",
   "nbconvert_exporter": "python",
   "pygments_lexer": "ipython3",
   "version": "3.7.5"
  }
 },
 "nbformat": 4,
 "nbformat_minor": 2
}
