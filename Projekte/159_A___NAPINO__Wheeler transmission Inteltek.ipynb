{
 "cells": [
  {
   "cell_type": "markdown",
   "metadata": {},
   "source": [
    "# 159_A / Napino / Inteltek / Wheeler Transmission\n",
    "Status 05-Juni-2019\n",
    "Gerrit Kocherscheidt\n",
    "\n",
    "Bearbeitung des Konzepts von Napino (s. Email Ashok 04-Jun-2019)\n",
    "## Abschätzungen zur Spindel\n",
    "\n",
    "Formeln siehe:\n",
    "\n",
    "https://www.schweizer-fn.de/maschinenelemente/bewegungsschrauben/bewegungsschrauben.php"
   ]
  },
  {
   "cell_type": "code",
   "execution_count": 20,
   "metadata": {},
   "outputs": [
    {
     "name": "stdout",
     "output_type": "stream",
     "text": [
      "pitch angle = 1.140°\n",
      "n_max = 1000.8RPM\n",
      "friction angle = 14.240°\n",
      "estimated M_drive = 14.32mNm\n",
      "estimated M_friction = 165.60mNm\n",
      "relevant total torque = 179.92mNm\n"
     ]
    }
   ],
   "source": [
    "import numpy as np\n",
    "from MotorCalc import *\n",
    "\n",
    "F_max = 180     #N; max force needed\n",
    "v_max = 8.34    #mm/s; max linear movement speed\n",
    "a_max = 80.4    #mm/s^2; max linear acceleration\n",
    "s_total = 20    #mm; total travel distance\n",
    "\n",
    "spindle_pitch = 0.5     #mm/revolution\n",
    "spindle_dia = 8         #mm; diameter of spindle \n",
    "\n",
    "# pitch angle degree\n",
    "pitch_angle_deg = np.arctan2(spindle_pitch,spindle_dia*np.pi)*180/np.pi\n",
    "\n",
    "# max motor speed (RPM)\n",
    "n_max = v_max/spindle_pitch*60\n",
    "\n",
    "# flank angle (degree)\n",
    "flank_angle_rad = 50/180*np.pi  #°\n",
    "\n",
    "#friction number\n",
    "mu_fric = 0.23\n",
    "\n",
    "#friction angle (degree)\n",
    "friction_angle_deg = np.arctan2(mu_fric,np.cos(flank_angle_rad/2))*180/np.pi\n",
    "\n",
    "#Drive torque estimate without friction\n",
    "M_drive = F_max*v_max/(np.pi*n_max/30)\n",
    "\n",
    "#Friction torque component estimate\n",
    "M_friction = F_max*spindle_dia/2*mu_fric\n",
    "\n",
    "print(\"pitch angle = {:0.3f}°\".format(pitch_angle_deg))\n",
    "print(\"n_max = {:0.1f}RPM\".format(n_max))\n",
    "print(\"friction angle = {:0.3f}°\".format(friction_angle_deg))\n",
    "print(\"estimated M_drive = {:0.2f}mNm\".format(M_drive))\n",
    "print(\"estimated M_friction = {:0.2f}mNm\".format(M_friction))\n",
    "print(\"relevant total torque = {:0.2f}mNm\".format(M_drive+M_friction))\n",
    "\n",
    "\n"
   ]
  },
  {
   "cell_type": "code",
   "execution_count": null,
   "metadata": {},
   "outputs": [],
   "source": []
  },
  {
   "cell_type": "code",
   "execution_count": null,
   "metadata": {},
   "outputs": [],
   "source": []
  }
 ],
 "metadata": {
  "kernelspec": {
   "display_name": "Python 3",
   "language": "python",
   "name": "python3"
  },
  "language_info": {
   "codemirror_mode": {
    "name": "ipython",
    "version": 3
   },
   "file_extension": ".py",
   "mimetype": "text/x-python",
   "name": "python",
   "nbconvert_exporter": "python",
   "pygments_lexer": "ipython3",
   "version": "3.6.5"
  }
 },
 "nbformat": 4,
 "nbformat_minor": 2
}
